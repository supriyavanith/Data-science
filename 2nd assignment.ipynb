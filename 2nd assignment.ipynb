{
 "cells": [
  {
   "cell_type": "code",
   "execution_count": null,
   "id": "f17b5d96",
   "metadata": {},
   "outputs": [],
   "source": [
    "#1. Write a Python program to count the number of even and odd numbers from a series of numbers."
   ]
  },
  {
   "cell_type": "code",
   "execution_count": 2,
   "id": "3246fa2d",
   "metadata": {},
   "outputs": [
    {
     "name": "stdout",
     "output_type": "stream",
     "text": [
      "Number of even numbers :  4\n",
      "Number of odd numbers :  5\n"
     ]
    }
   ],
   "source": [
    "numbers=[1,2,3,4,5,6,7,8,9]\n",
    "odd=0\n",
    "even=0\n",
    "for i in range(1,10):\n",
    "    if i%2==0:\n",
    "        even+=1\n",
    "    else:\n",
    "        odd+=1\n",
    "print(\"Number of even numbers : \",even)\n",
    "print(\"Number of odd numbers : \",odd)"
   ]
  },
  {
   "cell_type": "code",
   "execution_count": null,
   "id": "5b100c3e",
   "metadata": {},
   "outputs": [],
   "source": [
    "#2. Write a Python program to find numbers between 100 and 400 (both included) where each digit of a number is an even number. The numbers obtained should be printed in a comma-separated sequence."
   ]
  },
  {
   "cell_type": "code",
   "execution_count": 1,
   "id": "7711579f",
   "metadata": {},
   "outputs": [
    {
     "name": "stdout",
     "output_type": "stream",
     "text": [
      "100,102,104,106,108,110,112,114,116,118,120,122,124,126,128,130,132,134,136,138,140,142,144,146,148,150,152,154,156,158,160,162,164,166,168,170,172,174,176,178,180,182,184,186,188,190,192,194,196,198,200,202,204,206,208,210,212,214,216,218,220,222,224,226,228,230,232,234,236,238,240,242,244,246,248,250,252,254,256,258,260,262,264,266,268,270,272,274,276,278,280,282,284,286,288,290,292,294,296,298,300,302,304,306,308,310,312,314,316,318,320,322,324,326,328,330,332,334,336,338,340,342,344,346,348,350,352,354,356,358,360,362,364,366,368,370,372,374,376,378,380,382,384,386,388,390,392,394,396,398,400,"
     ]
    }
   ],
   "source": [
    "lst=[]\n",
    "for i in range(100,401):\n",
    "    if(i%2==0):\n",
    "        print(i,end=\",\")\n",
    "    "
   ]
  },
  {
   "cell_type": "code",
   "execution_count": null,
   "id": "c335d497",
   "metadata": {},
   "outputs": [],
   "source": [
    "#3. Write a Python program to calculate a dog's age in dog's years. Go to the editor.Note: For the first two years, a dog year is equal to 10.5 human years. After that, each dog year equals 4 human years."
   ]
  },
  {
   "cell_type": "code",
   "execution_count": 14,
   "id": "82c7703d",
   "metadata": {},
   "outputs": [
    {
     "name": "stdout",
     "output_type": "stream",
     "text": [
      "Input a dog's age in human years: 24\n",
      "The dog's age in dog's years is  109\n"
     ]
    }
   ],
   "source": [
    "dog_age = int(input(\"Input a dog's age in human years: \"))\n",
    "dog_yrs=0\n",
    "for i in range(dog_age):\n",
    "    if i<2:\n",
    "        dog_yrs+=10.5\n",
    "    else:\n",
    "        dog_yrs+=4\n",
    "print(\"The dog's age in dog's years is \",int(dog_yrs))"
   ]
  },
  {
   "cell_type": "code",
   "execution_count": null,
   "id": "12658424",
   "metadata": {},
   "outputs": [],
   "source": [
    "#4. Write a Python function to find the Max of three numbers."
   ]
  },
  {
   "cell_type": "code",
   "execution_count": 15,
   "id": "6562dc24",
   "metadata": {},
   "outputs": [
    {
     "name": "stdout",
     "output_type": "stream",
     "text": [
      "2\n",
      "3\n",
      "4\n",
      "The Three numbers are: (2, 3, 4)\n",
      "4\n"
     ]
    }
   ],
   "source": [
    "a=int(input())\n",
    "b=int(input())\n",
    "c=int(input())\n",
    "#print(max(a,b,c)) \"Using max function\"\n",
    "print(\"The Three numbers are: ({}, {}, {})\".format(a,b,c))\n",
    "if a>b and a>c:\n",
    "    print(a)\n",
    "elif b>c:\n",
    "    print(b)\n",
    "else:\n",
    "    print(c)"
   ]
  },
  {
   "cell_type": "code",
   "execution_count": null,
   "id": "1fc017e7",
   "metadata": {},
   "outputs": [],
   "source": [
    "#5. Write a Python function that takes a number as a parameter and check the number is prime or not."
   ]
  },
  {
   "cell_type": "code",
   "execution_count": 17,
   "id": "a9da2a9d",
   "metadata": {},
   "outputs": [
    {
     "name": "stdout",
     "output_type": "stream",
     "text": [
      "9\n",
      "The number is: 9\n",
      "False\n"
     ]
    }
   ],
   "source": [
    "def isPrime(num):\n",
    "    flag = False\n",
    "\n",
    "    if num == 1:\n",
    "        return False\n",
    "    elif num > 1:\n",
    "        for i in range(2, num):\n",
    "            if (num % i) == 0:\n",
    "                flag = True\n",
    "                break\n",
    "        if flag:\n",
    "            return False\n",
    "        else:\n",
    "            return True\n",
    "    \n",
    "num=int(input())\n",
    "print(\"The number is:\",num)\n",
    "print(isPrime(num))"
   ]
  },
  {
   "cell_type": "code",
   "execution_count": null,
   "id": "e9a02087",
   "metadata": {},
   "outputs": [],
   "source": [
    "#6. Write ,a Python function that accepts a string and calculate the number of upper case letters and lower case letters. Go to the editor"
   ]
  },
  {
   "cell_type": "code",
   "execution_count": 18,
   "id": "9415018c",
   "metadata": {},
   "outputs": [
    {
     "name": "stdout",
     "output_type": "stream",
     "text": [
      "Run Untill Win\n",
      "Original String : Run Untill Win\n",
      "No. of Upper case characters :  3\n",
      "No. of Lower case characters :  9\n"
     ]
    }
   ],
   "source": [
    "strng=input()\n",
    "print(\"Original String :\", strng)\n",
    "lower=0\n",
    "upper=0\n",
    "for i in strng:\n",
    "    if i.isupper():\n",
    "        upper+=1\n",
    "    elif i.islower():\n",
    "        lower+=1\n",
    "print(\"No. of Upper case characters : \",upper)\n",
    "print(\"No. of Lower case characters : \",lower)"
   ]
  },
  {
   "cell_type": "code",
   "execution_count": null,
   "id": "cb4df120",
   "metadata": {},
   "outputs": [],
   "source": [
    "#7. Write a Python program to reverse a string."
   ]
  },
  {
   "cell_type": "code",
   "execution_count": 19,
   "id": "b9a13624",
   "metadata": {},
   "outputs": [
    {
     "name": "stdout",
     "output_type": "stream",
     "text": [
      "123456789\n",
      "The original string is:  123456789\n",
      "The reversed string is:  987654321\n"
     ]
    }
   ],
   "source": [
    "strng=input()\n",
    "print(\"The original string is: \",strng)\n",
    "print(\"The reversed string is: \",strng[::-1])"
   ]
  },
  {
   "cell_type": "code",
   "execution_count": null,
   "id": "3162ffb5",
   "metadata": {},
   "outputs": [],
   "source": [
    "#8. Write a Python program to find the greatest common divisor (gcd) of two integers."
   ]
  },
  {
   "cell_type": "code",
   "execution_count": 24,
   "id": "a5ebe862",
   "metadata": {},
   "outputs": [
    {
     "name": "stdout",
     "output_type": "stream",
     "text": [
      "The two number are:  (12, 14)\n",
      "The GCD of the numbers are:  2\n"
     ]
    }
   ],
   "source": [
    "import math\n",
    "\n",
    "Number1 = 12\n",
    "number2 = 14\n",
    "print(\"The two number are: \",(Number1,number2))\n",
    "gcd = math.gcd(Number1, number2)\n",
    "print(\"The GCD of the numbers are: \",gcd)"
   ]
  },
  {
   "cell_type": "code",
   "execution_count": null,
   "id": "a775b2fe",
   "metadata": {},
   "outputs": [],
   "source": []
  }
 ],
 "metadata": {
  "kernelspec": {
   "display_name": "Python 3 (ipykernel)",
   "language": "python",
   "name": "python3"
  },
  "language_info": {
   "codemirror_mode": {
    "name": "ipython",
    "version": 3
   },
   "file_extension": ".py",
   "mimetype": "text/x-python",
   "name": "python",
   "nbconvert_exporter": "python",
   "pygments_lexer": "ipython3",
   "version": "3.11.4"
  }
 },
 "nbformat": 4,
 "nbformat_minor": 5
}
